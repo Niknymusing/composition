{
 "cells": [
  {
   "cell_type": "markdown",
   "metadata": {},
   "source": [
    "# Efficient Retrieval of Music Recordings Using Graph-Based Index Structures\n",
    "\n",
    "This notebook accompanies the following paper:\n",
    "\n",
    "<ul>    \n",
    "<li><span style=\"color:black\">\n",
    "Frank Zalkow, Julian Brandner, and Meinard Müller. <strong>Efficient retrieval of music recordings using graph-based index structures.</strong> <em>Signals</em>, 2(2):336–352, 2021. doi: 10.3390/signals2020021.\n",
    "    <a class=\"btn btn-default btn-xs\" href=\"https://www.mdpi.com/2624-6120/2/2/21\">Paper</a>\n",
    "    <a class=\"btn btn-default btn-xs\" href=\"https://www.audiolabs-erlangen.de/resources/MIR/2020_signals-indexing/reference_paper.bib\">Bibtex</a>\n",
    "    <a class=\"btn btn-default btn-xs\" href=\"https://www.audiolabs-erlangen.de/resources/MIR/2020_signals-indexing\">Website</a>\n",
    "</ul>\n",
    "    \n",
    "The paper compares indexing strategies based on $K$-d trees and HNSW graphs in a cross-modal music retrieval application. See more details in the paper. The notebook shows how to load the features for a provided example dataset, generate shingles, reduce the shingle dimensionality using PCA, construct index structures ($K$-d trees and HNSW graphs), and search for the nearest shingles to a given query in the database.\n",
    "    \n",
    "We start by importing some Python packages."
   ]
  },
  {
   "cell_type": "code",
   "execution_count": 1,
   "metadata": {},
   "outputs": [],
   "source": [
    "import os\n",
    "import timeit\n",
    "\n",
    "import numpy as np\n",
    "import scipy\n",
    "import pandas as pd\n",
    "from sklearn.decomposition import PCA\n",
    "from sklearn.neighbors import NearestNeighbors, KDTree\n",
    "import IPython.display as ipd\n",
    "import hnswlib\n",
    "from matplotlib import pyplot as plt\n",
    "\n",
    "from common import compute_features, generate_shingles"
   ]
  },
  {
   "cell_type": "markdown",
   "metadata": {},
   "source": [
    "## Parameters\n",
    "\n",
    "We now set various parameters used throughout this notebook.\n",
    "First, we decide whether we use dimensionality reduction (binary variable `dimensionality_reduction`).\n",
    "Second, we fix the used dimensionality $K$ (`K`, changed to 240 later if no dimensionality reduction is applied).\n",
    "Third, we set the number $\\nu$ of neighbors to search for (`nu`).\n",
    "\n",
    "Then, we have three more parameters for the HNSW graph, i.e., number $\\nu'$ of neighbor candidates during the search (`nu_prime`), the minimum number $M$ of edges for each node in the graph (`M`), and the number $M'$ of edge candidates during the construction of the graph (`M_prime`).\n",
    "For details about the meaning of these parameters, we refer to our paper."
   ]
  },
  {
   "cell_type": "code",
   "execution_count": 2,
   "metadata": {},
   "outputs": [],
   "source": [
    "dimensionality_reduction = True\n",
    "K = 30\n",
    "nu = 10\n",
    "\n",
    "nu_prime = 100\n",
    "M = 5\n",
    "M_prime = 100"
   ]
  },
  {
   "cell_type": "markdown",
   "metadata": {},
   "source": [
    "## Load Dataset\n",
    "\n",
    "We next load the metadata and the CENS features for our dataset.\n",
    "Then, we generate shingles (as vectors of 240 dimensions) from the feature sequences and an index that specifies the original document for each shingle."
   ]
  },
  {
   "cell_type": "code",
   "execution_count": 17,
   "metadata": {},
   "outputs": [],
   "source": [
    "metadata = pd.read_csv(os.path.join('data', 'metadata.csv'), sep=';')\n",
    "\n",
    "shingles = []\n",
    "index = []\n",
    " \n",
    "for _, (cur_idx, cur_composer, cur_work, cur_version, cur_fn) in metadata.iterrows():\n",
    "    cur_fn_npz = os.path.join('data', 'features_cens', cur_fn)\n",
    "    cur_X = np.load(cur_fn_npz)['f_chroma']\n",
    "    cur_shingles = generate_shingles(cur_X) # apply model embedding\n",
    "    \n",
    "    shingles.append(cur_shingles)\n",
    "    index.append(np.repeat(cur_idx, cur_shingles.shape[0]))\n",
    "    \n",
    "shingles = np.concatenate(shingles, axis=0)\n",
    "index = np.concatenate(index)\n",
    "\n",
    "db_size = shingles.shape[0]"
   ]
  },
  {
   "cell_type": "code",
   "execution_count": 20,
   "metadata": {},
   "outputs": [
    {
     "data": {
      "text/plain": [
       "(52332,)"
      ]
     },
     "execution_count": 20,
     "metadata": {},
     "output_type": "execute_result"
    }
   ],
   "source": [
    "index.shape"
   ]
  },
  {
   "cell_type": "markdown",
   "metadata": {},
   "source": [
    "To give an overview of the dataset, we create a table with the dataset's musical works, showing the number of versions for each work."
   ]
  },
  {
   "cell_type": "code",
   "execution_count": 4,
   "metadata": {},
   "outputs": [
    {
     "data": {
      "text/html": [
       "<table border=\"1\" class=\"dataframe\">\n",
       "  <thead>\n",
       "    <tr style=\"text-align: right;\">\n",
       "      <th>ComposerID</th>\n",
       "      <th>WorkID</th>\n",
       "      <th># Versions</th>\n",
       "    </tr>\n",
       "  </thead>\n",
       "  <tbody>\n",
       "    <tr>\n",
       "      <td>Beethoven</td>\n",
       "      <td>Op055-01</td>\n",
       "      <td>4</td>\n",
       "    </tr>\n",
       "    <tr>\n",
       "      <td>Beethoven</td>\n",
       "      <td>Op055-02</td>\n",
       "      <td>4</td>\n",
       "    </tr>\n",
       "    <tr>\n",
       "      <td>Beethoven</td>\n",
       "      <td>Op055-03</td>\n",
       "      <td>4</td>\n",
       "    </tr>\n",
       "    <tr>\n",
       "      <td>Beethoven</td>\n",
       "      <td>Op055-04</td>\n",
       "      <td>4</td>\n",
       "    </tr>\n",
       "    <tr>\n",
       "      <td>Chopin</td>\n",
       "      <td>Op007No1</td>\n",
       "      <td>53</td>\n",
       "    </tr>\n",
       "    <tr>\n",
       "      <td>Chopin</td>\n",
       "      <td>Op024No1</td>\n",
       "      <td>61</td>\n",
       "    </tr>\n",
       "    <tr>\n",
       "      <td>Chopin</td>\n",
       "      <td>Op033No2</td>\n",
       "      <td>67</td>\n",
       "    </tr>\n",
       "    <tr>\n",
       "      <td>Chopin</td>\n",
       "      <td>Op033No3</td>\n",
       "      <td>50</td>\n",
       "    </tr>\n",
       "    <tr>\n",
       "      <td>Chopin</td>\n",
       "      <td>Op068No4</td>\n",
       "      <td>62</td>\n",
       "    </tr>\n",
       "    <tr>\n",
       "      <td>Vivaldi</td>\n",
       "      <td>RV269-01</td>\n",
       "      <td>7</td>\n",
       "    </tr>\n",
       "    <tr>\n",
       "      <td>Vivaldi</td>\n",
       "      <td>RV269-02</td>\n",
       "      <td>7</td>\n",
       "    </tr>\n",
       "    <tr>\n",
       "      <td>Vivaldi</td>\n",
       "      <td>RV269-03</td>\n",
       "      <td>7</td>\n",
       "    </tr>\n",
       "  </tbody>\n",
       "</table>"
      ],
      "text/plain": [
       "<IPython.core.display.HTML object>"
      ]
     },
     "metadata": {},
     "output_type": "display_data"
    }
   ],
   "source": [
    "works_with_count = metadata[['ComposerID', 'WorkID']].value_counts(sort=False).to_frame()\n",
    "works_with_count = pd.DataFrame(works_with_count.to_records())\n",
    "works_with_count.columns = ['ComposerID', 'WorkID', '# Versions']\n",
    "\n",
    "ipd.display(ipd.HTML(works_with_count.to_html(index=False)))"
   ]
  },
  {
   "cell_type": "markdown",
   "metadata": {},
   "source": [
    "To give a concrete idea about the dataset content, we now select a random shingle from the dataset, show its corresponding metadata, and visualize the shingle."
   ]
  },
  {
   "cell_type": "code",
   "execution_count": 5,
   "metadata": {},
   "outputs": [
    {
     "data": {
      "text/html": [
       "<table border=\"1\" class=\"dataframe\">\n",
       "  <thead>\n",
       "    <tr style=\"text-align: right;\">\n",
       "      <th></th>\n",
       "      <th>Index</th>\n",
       "      <th>ComposerID</th>\n",
       "      <th>WorkID</th>\n",
       "      <th>VersionID</th>\n",
       "      <th>Filename</th>\n",
       "    </tr>\n",
       "  </thead>\n",
       "  <tbody>\n",
       "    <tr>\n",
       "      <th>72</th>\n",
       "      <td>72</td>\n",
       "      <td>Chopin</td>\n",
       "      <td>Op024No1</td>\n",
       "      <td>Barbosa-1983_pid9174-14</td>\n",
       "      <td>Chopin_Op024No1_Barbosa-1983_pid9174-14.npz</td>\n",
       "    </tr>\n",
       "  </tbody>\n",
       "</table>"
      ],
      "text/plain": [
       "<IPython.core.display.HTML object>"
      ]
     },
     "metadata": {},
     "output_type": "display_data"
    },
    {
     "data": {
      "image/png": "[encoded data removed]",
      "text/plain": [
       "<Figure size 500x250 with 2 Axes>"
      ]
     },
     "metadata": {},
     "output_type": "display_data"
    }
   ],
   "source": [
    "example_idx = np.random.randint(0, shingles.shape[0])\n",
    "example_item = shingles[example_idx, :]\n",
    "\n",
    "ipd.display(ipd.HTML(metadata[metadata['Index'] == index[example_idx]].to_html()))\n",
    "\n",
    "plt.figure(figsize=(5, 2.5))\n",
    "plt.imshow(example_item.reshape(12, 20), aspect='auto', origin='lower', cmap='gray_r', vmin=0, vmax=1)\n",
    "plt.yticks([0, 2, 4, 5, 7, 9, 11], 'CDEFGAB')\n",
    "plt.ylabel('Chroma')\n",
    "plt.xlabel('Time (seconds)')\n",
    "plt.colorbar()\n",
    "plt.tight_layout()"
   ]
  },
  {
   "cell_type": "markdown",
   "metadata": {},
   "source": [
    "## Dimensionality Reduction\n",
    "\n",
    "If required, we perform dimensionality reduction to the shingle using PCA."
   ]
  },
  {
   "cell_type": "code",
   "execution_count": 6,
   "metadata": {},
   "outputs": [],
   "source": [
    "if dimensionality_reduction:\n",
    "    pca = PCA(n_components=K)\n",
    "    pca.fit(shingles)\n",
    "    items = pca.transform(shingles)\n",
    "else:\n",
    "    items = shingles\n",
    "    K = shingles.shape[1]"
   ]
  },
  {
   "cell_type": "markdown",
   "metadata": {},
   "source": [
    "## Query\n",
    "\n",
    "In this notebook, we use a query from the database to demonstrate the usage of the index structures.\n",
    "You may also use another query by computing the features for an audio file.\n",
    "To do this, we provide the functions `common.compute_features` and `common.generate_shingles`."
   ]
  },
  {
   "cell_type": "code",
   "execution_count": 7,
   "metadata": {},
   "outputs": [
    {
     "name": "stdout",
     "output_type": "stream",
     "text": [
      "Query\n"
     ]
    },
    {
     "data": {
      "text/html": [
       "<table border=\"1\" class=\"dataframe\">\n",
       "  <thead>\n",
       "    <tr style=\"text-align: right;\">\n",
       "      <th></th>\n",
       "      <th>Index</th>\n",
       "      <th>ComposerID</th>\n",
       "      <th>WorkID</th>\n",
       "      <th>VersionID</th>\n",
       "      <th>Filename</th>\n",
       "    </tr>\n",
       "  </thead>\n",
       "  <tbody>\n",
       "    <tr>\n",
       "      <th>271</th>\n",
       "      <td>271</td>\n",
       "      <td>Chopin</td>\n",
       "      <td>Op068No4</td>\n",
       "      <td>Gornostaeva-1994_pid9116-11</td>\n",
       "      <td>Chopin_Op068No4_Gornostaeva-1994_pid9116-11.npz</td>\n",
       "    </tr>\n",
       "  </tbody>\n",
       "</table>"
      ],
      "text/plain": [
       "<IPython.core.display.HTML object>"
      ]
     },
     "metadata": {},
     "output_type": "display_data"
    }
   ],
   "source": [
    "query_idx = np.random.randint(0, items.shape[0])\n",
    "query_item = items[query_idx, :]\n",
    "\n",
    "print('Query')\n",
    "ipd.display(ipd.HTML(metadata[metadata['Index'] == index[query_idx]].to_html()))\n",
    "\n",
    "# to use another query, you can compute a query item from an audio file\n",
    "# import librosa\n",
    "# fn_audio = '...'  # please provide the path to an audio file\n",
    "# X_cens = compute_features(fn_audio)\n",
    "# query_shingle = generate_shingles(X_cens)[0, :]  # using the first shingle from the file\n",
    "# query_item = pca.transform(query_shingle.reshape(1, -1))[0] if dimensionality_reduction else query_shingle"
   ]
  },
  {
   "cell_type": "markdown",
   "metadata": {},
   "source": [
    "## Exhaustive Nearest Neighbor Search\n",
    "\n",
    "Now, we search for the $\\nu$ nearest shingles in our dataset using an exhaustive search.\n",
    "Here, we compute a matrix of pairwise distances between the query and all database items and select the items corresponding to the $\\nu$ smallest distances."
   ]
  },
  {
   "cell_type": "code",
   "execution_count": 8,
   "metadata": {},
   "outputs": [],
   "source": [
    "def exhaustive_search(database, queries, n_neighbors):\n",
    "    C = scipy.spatial.distance.cdist(database, queries, metric='euclidean')\n",
    "    neighbor_idx = np.argsort(C, axis=0)[:n_neighbors, :]\n",
    "    neighbor_dist = C[np.unravel_index(neighbor_idx, C.shape)]\n",
    "    return neighbor_idx, neighbor_dist\n",
    "    \n",
    "neighbor_idx, neighbor_dist = exhaustive_search(items, query_item.reshape(1, -1), nu)\n",
    "neighbor_dist = np.square(neighbor_dist)  # show squared Euclidean distance"
   ]
  },
  {
   "cell_type": "markdown",
   "metadata": {},
   "source": [
    "We next show the results of the search using the function `show_result_table`."
   ]
  },
  {
   "cell_type": "code",
   "execution_count": 9,
   "metadata": {},
   "outputs": [
    {
     "name": "stdout",
     "output_type": "stream",
     "text": [
      "Results of exhaustive search\n"
     ]
    },
    {
     "data": {
      "text/html": [
       "<table border=\"1\" class=\"dataframe\">\n",
       "  <thead>\n",
       "    <tr style=\"text-align: right;\">\n",
       "      <th>Match</th>\n",
       "      <th>ComposerID</th>\n",
       "      <th>WorkID</th>\n",
       "      <th>VersionID</th>\n",
       "      <th>ShingleIdx</th>\n",
       "      <th>Distance</th>\n",
       "    </tr>\n",
       "  </thead>\n",
       "  <tbody>\n",
       "    <tr>\n",
       "      <td>01</td>\n",
       "      <td>Chopin</td>\n",
       "      <td>Op068No4</td>\n",
       "      <td>Gornostaeva-1994_pid9116-11</td>\n",
       "      <td>43272</td>\n",
       "      <td>0.000000</td>\n",
       "    </tr>\n",
       "    <tr>\n",
       "      <td>02</td>\n",
       "      <td>Chopin</td>\n",
       "      <td>Op068No4</td>\n",
       "      <td>Gornostaeva-1994_pid9116-11</td>\n",
       "      <td>43271</td>\n",
       "      <td>0.431652</td>\n",
       "    </tr>\n",
       "    <tr>\n",
       "      <td>03</td>\n",
       "      <td>Chopin</td>\n",
       "      <td>Op068No4</td>\n",
       "      <td>Gornostaeva-1994_pid9116-11</td>\n",
       "      <td>43273</td>\n",
       "      <td>0.471303</td>\n",
       "    </tr>\n",
       "    <tr>\n",
       "      <td>04</td>\n",
       "      <td>Chopin</td>\n",
       "      <td>Op068No4</td>\n",
       "      <td>Fou-1955_pid9085-22</td>\n",
       "      <td>42683</td>\n",
       "      <td>1.433297</td>\n",
       "    </tr>\n",
       "    <tr>\n",
       "      <td>05</td>\n",
       "      <td>Chopin</td>\n",
       "      <td>Op068No4</td>\n",
       "      <td>Guller-1956_pid9176-09</td>\n",
       "      <td>43363</td>\n",
       "      <td>1.561083</td>\n",
       "    </tr>\n",
       "    <tr>\n",
       "      <td>06</td>\n",
       "      <td>Chopin</td>\n",
       "      <td>Op068No4</td>\n",
       "      <td>Luisada-1991_pid9055b-20</td>\n",
       "      <td>44822</td>\n",
       "      <td>1.561119</td>\n",
       "    </tr>\n",
       "    <tr>\n",
       "      <td>07</td>\n",
       "      <td>Chopin</td>\n",
       "      <td>Op068No4</td>\n",
       "      <td>Moravec-1989_pid5667271-06</td>\n",
       "      <td>45769</td>\n",
       "      <td>1.561215</td>\n",
       "    </tr>\n",
       "    <tr>\n",
       "      <td>08</td>\n",
       "      <td>Chopin</td>\n",
       "      <td>Op068No4</td>\n",
       "      <td>Milkina-1970_pid9099b-26</td>\n",
       "      <td>45505</td>\n",
       "      <td>1.620660</td>\n",
       "    </tr>\n",
       "    <tr>\n",
       "      <td>09</td>\n",
       "      <td>Chopin</td>\n",
       "      <td>Op068No4</td>\n",
       "      <td>Moravec-1989_pid5667271-06</td>\n",
       "      <td>45768</td>\n",
       "      <td>1.722797</td>\n",
       "    </tr>\n",
       "    <tr>\n",
       "      <td>10</td>\n",
       "      <td>Chopin</td>\n",
       "      <td>Op068No4</td>\n",
       "      <td>Blet-2003_pid9103-23</td>\n",
       "      <td>41016</td>\n",
       "      <td>1.725613</td>\n",
       "    </tr>\n",
       "  </tbody>\n",
       "</table>"
      ],
      "text/plain": [
       "<IPython.core.display.HTML object>"
      ]
     },
     "metadata": {},
     "output_type": "display_data"
    }
   ],
   "source": [
    "def show_result_table(neighbor_idx, neighbor_dist, index=index, metadata=metadata):\n",
    "    neighbor_idx = neighbor_idx.ravel()\n",
    "    neighbor_dist = neighbor_dist.ravel()\n",
    "    \n",
    "    table = []\n",
    "    for i, (cur_item_idx, cur_dist) in enumerate(zip(neighbor_idx, neighbor_dist)):\n",
    "        cur_version_idx = index[cur_item_idx]\n",
    "        cur_meta_row = metadata[metadata['Index'] == cur_version_idx].iloc[0]\n",
    "        \n",
    "        table.append([f'{i + 1:02d}', cur_meta_row['ComposerID'], cur_meta_row['WorkID'],\n",
    "                      cur_meta_row['VersionID'], cur_item_idx, cur_dist])\n",
    "    \n",
    "    cols = ['Match', 'ComposerID', 'WorkID', 'VersionID', 'ShingleIdx', 'Distance']\n",
    "    ipd.display(ipd.HTML(pd.DataFrame(table, columns=cols).to_html(index=False)))\n",
    "    \n",
    "print('Results of exhaustive search')\n",
    "show_result_table(neighbor_idx, neighbor_dist)"
   ]
  },
  {
   "cell_type": "markdown",
   "metadata": {},
   "source": [
    "## Nearest Neighbor Search with $K$-d tree\n",
    "\n",
    "Next, we construct a $K$-d tree for our dataset and search for the $\\nu$ nearest shingles using this tree.\n",
    "We then show the results as a table."
   ]
  },
  {
   "cell_type": "code",
   "execution_count": 10,
   "metadata": {},
   "outputs": [
    {
     "ename": "AssertionError",
     "evalue": "",
     "output_type": "error",
     "traceback": [
      "\u001b[0;31m---------------------------------------------------------------------------\u001b[0m",
      "\u001b[0;31mAssertionError\u001b[0m                            Traceback (most recent call last)",
      "\u001b[1;32m/Users/nikny/mathemusician/research/music_indexing/retrieval_demo.ipynb Cell 20\u001b[0m line \u001b[0;36m4\n\u001b[1;32m      <a href='vscode-notebook-cell:/Users/nikny/mathemusician/research/music_indexing/retrieval_demo.ipynb#X25sZmlsZQ%3D%3D?line=0'>1</a>\u001b[0m neighbors \u001b[39m=\u001b[39m NearestNeighbors(n_neighbors\u001b[39m=\u001b[39mnu, metric\u001b[39m=\u001b[39m\u001b[39m'\u001b[39m\u001b[39meuclidean\u001b[39m\u001b[39m'\u001b[39m)\n\u001b[1;32m      <a href='vscode-notebook-cell:/Users/nikny/mathemusician/research/music_indexing/retrieval_demo.ipynb#X25sZmlsZQ%3D%3D?line=1'>2</a>\u001b[0m neighbors\u001b[39m.\u001b[39mfit(items)\n\u001b[0;32m----> <a href='vscode-notebook-cell:/Users/nikny/mathemusician/research/music_indexing/retrieval_demo.ipynb#X25sZmlsZQ%3D%3D?line=3'>4</a>\u001b[0m \u001b[39massert\u001b[39;00m \u001b[39misinstance\u001b[39m(neighbors\u001b[39m.\u001b[39m_tree, KDTree)\n\u001b[1;32m      <a href='vscode-notebook-cell:/Users/nikny/mathemusician/research/music_indexing/retrieval_demo.ipynb#X25sZmlsZQ%3D%3D?line=5'>6</a>\u001b[0m neighbor_dist, neighbor_idx \u001b[39m=\u001b[39m neighbors\u001b[39m.\u001b[39mkneighbors(query_item\u001b[39m.\u001b[39mreshape(\u001b[39m1\u001b[39m, \u001b[39m-\u001b[39m\u001b[39m1\u001b[39m), nu)\n\u001b[1;32m      <a href='vscode-notebook-cell:/Users/nikny/mathemusician/research/music_indexing/retrieval_demo.ipynb#X25sZmlsZQ%3D%3D?line=6'>7</a>\u001b[0m neighbor_dist \u001b[39m=\u001b[39m np\u001b[39m.\u001b[39msquare(neighbor_dist)  \u001b[39m# show squared Euclidean distance\u001b[39;00m\n",
      "\u001b[0;31mAssertionError\u001b[0m: "
     ]
    }
   ],
   "source": [
    "neighbors = NearestNeighbors(n_neighbors=nu, metric='euclidean')\n",
    "neighbors.fit(items)\n",
    "\n",
    "assert isinstance(neighbors._tree, KDTree)\n",
    "\n",
    "neighbor_dist, neighbor_idx = neighbors.kneighbors(query_item.reshape(1, -1), nu)\n",
    "neighbor_dist = np.square(neighbor_dist)  # show squared Euclidean distance\n",
    "\n",
    "print('Results of search with K-d tree')\n",
    "show_result_table(neighbor_idx, neighbor_dist)"
   ]
  },
  {
   "cell_type": "markdown",
   "metadata": {},
   "source": [
    "## Nearest Neighbor Search with HNSW Graph\n",
    "\n",
    "Finally, we construct an HNSW graph for our dataset and search for the $\\nu$ nearest shingles using this graph.\n",
    "We then show the results as a table."
   ]
  },
  {
   "cell_type": "code",
   "execution_count": 12,
   "metadata": {},
   "outputs": [
    {
     "name": "stdout",
     "output_type": "stream",
     "text": [
      "Results of search with HNSW graph\n"
     ]
    },
    {
     "data": {
      "text/html": [
       "<table border=\"1\" class=\"dataframe\">\n",
       "  <thead>\n",
       "    <tr style=\"text-align: right;\">\n",
       "      <th>Match</th>\n",
       "      <th>ComposerID</th>\n",
       "      <th>WorkID</th>\n",
       "      <th>VersionID</th>\n",
       "      <th>ShingleIdx</th>\n",
       "      <th>Distance</th>\n",
       "    </tr>\n",
       "  </thead>\n",
       "  <tbody>\n",
       "    <tr>\n",
       "      <td>01</td>\n",
       "      <td>Chopin</td>\n",
       "      <td>Op068No4</td>\n",
       "      <td>Gornostaeva-1994_pid9116-11</td>\n",
       "      <td>43272</td>\n",
       "      <td>0.000000</td>\n",
       "    </tr>\n",
       "    <tr>\n",
       "      <td>02</td>\n",
       "      <td>Chopin</td>\n",
       "      <td>Op068No4</td>\n",
       "      <td>Gornostaeva-1994_pid9116-11</td>\n",
       "      <td>43271</td>\n",
       "      <td>0.431652</td>\n",
       "    </tr>\n",
       "    <tr>\n",
       "      <td>03</td>\n",
       "      <td>Chopin</td>\n",
       "      <td>Op068No4</td>\n",
       "      <td>Gornostaeva-1994_pid9116-11</td>\n",
       "      <td>43273</td>\n",
       "      <td>0.471303</td>\n",
       "    </tr>\n",
       "    <tr>\n",
       "      <td>04</td>\n",
       "      <td>Chopin</td>\n",
       "      <td>Op068No4</td>\n",
       "      <td>Fou-1955_pid9085-22</td>\n",
       "      <td>42683</td>\n",
       "      <td>1.433297</td>\n",
       "    </tr>\n",
       "    <tr>\n",
       "      <td>05</td>\n",
       "      <td>Chopin</td>\n",
       "      <td>Op068No4</td>\n",
       "      <td>Guller-1956_pid9176-09</td>\n",
       "      <td>43363</td>\n",
       "      <td>1.561083</td>\n",
       "    </tr>\n",
       "    <tr>\n",
       "      <td>06</td>\n",
       "      <td>Chopin</td>\n",
       "      <td>Op068No4</td>\n",
       "      <td>Luisada-1991_pid9055b-20</td>\n",
       "      <td>44822</td>\n",
       "      <td>1.561119</td>\n",
       "    </tr>\n",
       "    <tr>\n",
       "      <td>07</td>\n",
       "      <td>Chopin</td>\n",
       "      <td>Op068No4</td>\n",
       "      <td>Moravec-1989_pid5667271-06</td>\n",
       "      <td>45769</td>\n",
       "      <td>1.561215</td>\n",
       "    </tr>\n",
       "    <tr>\n",
       "      <td>08</td>\n",
       "      <td>Chopin</td>\n",
       "      <td>Op068No4</td>\n",
       "      <td>Milkina-1970_pid9099b-26</td>\n",
       "      <td>45505</td>\n",
       "      <td>1.620660</td>\n",
       "    </tr>\n",
       "    <tr>\n",
       "      <td>09</td>\n",
       "      <td>Chopin</td>\n",
       "      <td>Op068No4</td>\n",
       "      <td>Moravec-1989_pid5667271-06</td>\n",
       "      <td>45768</td>\n",
       "      <td>1.722797</td>\n",
       "    </tr>\n",
       "    <tr>\n",
       "      <td>10</td>\n",
       "      <td>Chopin</td>\n",
       "      <td>Op068No4</td>\n",
       "      <td>Blet-2003_pid9103-23</td>\n",
       "      <td>41016</td>\n",
       "      <td>1.725613</td>\n",
       "    </tr>\n",
       "  </tbody>\n",
       "</table>"
      ],
      "text/plain": [
       "<IPython.core.display.HTML object>"
      ]
     },
     "metadata": {},
     "output_type": "display_data"
    }
   ],
   "source": [
    "graph = hnswlib.Index(space='l2', dim=K)\n",
    "graph.init_index(max_elements=items.shape[0], ef_construction=M_prime, M=M)\n",
    "graph.set_ef(nu_prime)\n",
    "graph.add_items(items, np.arange(items.shape[0]))\n",
    "\n",
    "neighbor_idx, neighbor_dist = graph.knn_query(query_item.reshape(1, -1), k=nu)\n",
    "\n",
    "print('Results of search with HNSW graph')\n",
    "show_result_table(neighbor_idx, neighbor_dist)"
   ]
  },
  {
   "cell_type": "markdown",
   "metadata": {},
   "source": [
    "## Retrieval Runtime\n",
    "\n",
    "The aim of using index structures in our music application is to increase the efficiency of the retrieval runtime.\n",
    "In the next code cell, we compare the runtimes of the different search strategies.\n",
    "First, we define functions with a consistent interface for the exhaustive search, the $K$-d tree search, and the HNSW-based search.\n",
    "Then we measure the runtimes of these functions using the Python module `timeit`."
   ]
  },
  {
   "cell_type": "code",
   "execution_count": 16,
   "metadata": {},
   "outputs": [
    {
     "name": "stdout",
     "output_type": "stream",
     "text": [
      "Full Search: 5.551 ms +/- 0.4 ms\n",
      "KD:          2.149 ms +/- 0.2 ms\n",
      "HNSW:        0.011 ms +/- 0.0 ms\n"
     ]
    }
   ],
   "source": [
    "def kd(neighbors, queries, n_neighbors):\n",
    "    neighbor_dist, neighbor_idx = neighbors.kneighbors(queries, nu)\n",
    "    return neighbor_idx, neighbor_dist\n",
    "\n",
    "def hnsw(graph, queries, n_neighbors):\n",
    "    neighbor_idx, neighbor_dist = graph.knn_query(queries, k=nu)\n",
    "    return neighbor_idx, neighbor_dist\n",
    "    \n",
    "# measure runtimes\n",
    "times_fullsearch = timeit.repeat('exhaustive_search(items, query_item.reshape(1, -1), nu)',\n",
    "                                 globals=globals(), number=1, repeat=100)\n",
    "times_kd = timeit.repeat('kd(neighbors, query_item.reshape(1, -1), nu)',\n",
    "                         globals=globals(), number=1, repeat=100)\n",
    "times_hnsw = timeit.repeat('hnsw(graph, query_item.reshape(1, -1), nu)',\n",
    "                           globals=globals(), number=1, repeat=100)\n",
    "\n",
    "# convert from second to milliseconds\n",
    "times_fullsearch = np.array(times_fullsearch) * 1000\n",
    "times_kd = np.array(times_kd) * 1000\n",
    "times_hnsw = np.array(times_hnsw) * 1000\n",
    "\n",
    "# report results\n",
    "print(f'Full Search: {np.mean(times_fullsearch):.3f} ms +/- {np.std(times_fullsearch):.1f} ms')\n",
    "print(f'KD:          {np.mean(times_kd):.3f} ms +/- {np.std(times_kd):.1f} ms')\n",
    "print(f'HNSW:        {np.mean(times_hnsw):.3f} ms +/- {np.std(times_hnsw):.1f} ms')"
   ]
  },
  {
   "cell_type": "markdown",
   "metadata": {},
   "source": [
    "<div class=\"alert\" style=\"background-color:#F5F5F5; border-color:#C8C8C8\">\n",
    "    <strong>Acknowledgment:</strong> This notebook was created by <a href=\"https://www.audiolabs-erlangen.de/fau/assistant/zalkow/\">Frank Zalkow</a>.\n",
    "</div>"
   ]
  }
 ],
 "metadata": {
  "kernelspec": {
   "display_name": "Python 3",
   "language": "python",
   "name": "python3"
  },
  "language_info": {
   "codemirror_mode": {
    "name": "ipython",
    "version": 3
   },
   "file_extension": ".py",
   "mimetype": "text/x-python",
   "name": "python",
   "nbconvert_exporter": "python",
   "pygments_lexer": "ipython3",
   "version": "3.9.16"
  }
 },
 "nbformat": 4,
 "nbformat_minor": 4
}
